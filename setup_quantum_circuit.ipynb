{
 "cells": [
  {
   "cell_type": "markdown",
   "metadata": {},
   "source": [
    "# Visualize "
   ]
  },
  {
   "cell_type": "code",
   "execution_count": 24,
   "metadata": {},
   "outputs": [
    {
     "data": {
      "text/html": [
       "<pre style=\"word-wrap: normal;white-space: pre;background: #fff0;line-height: 1.1;font-family: &quot;Courier New&quot;,Courier,monospace\">     ┌───┐     \n",
       "q_0: ┤ H ├──■──\n",
       "     └───┘┌─┴─┐\n",
       "q_1: ─────┤ X ├\n",
       "          └───┘</pre>"
      ],
      "text/plain": [
       "     ┌───┐     \n",
       "q_0: ┤ H ├──■──\n",
       "     └───┘┌─┴─┐\n",
       "q_1: ─────┤ X ├\n",
       "          └───┘"
      ]
     },
     "execution_count": 24,
     "metadata": {},
     "output_type": "execute_result"
    }
   ],
   "source": [
    "from qiskit import QuantumCircuit\n",
    "from qiskit.quantum_info import SparsePauliOp\n",
    "from qiskit.transpiler.preset_passmanagers import generate_preset_pass_manager\n",
    "import matplotlib.pyplot as plt\n",
    "\n",
    " \n",
    "# Create a new circuit with two qubits\n",
    "qc = QuantumCircuit(2)\n",
    " \n",
    "# Add a Hadamard gate to qubit 0\n",
    "qc.h(0)\n",
    " \n",
    "# Perform a controlled-X gate on qubit 1, controlled by qubit 0\n",
    "qc.cx(0, 1)\n",
    " \n",
    "# Return a drawing of the circuit using MatPlotLib (\"mpl\"). This is the\n",
    "# last line of the cell, so the drawing appears in the cell output.\n",
    "# Remove the \"mpl\" argument to get a text drawing.\n",
    "qc.draw()"
   ]
  },
  {
   "cell_type": "code",
   "execution_count": 10,
   "metadata": {},
   "outputs": [],
   "source": [
    "from qiskit import QuantumCircuit, transpile\n",
    "from qiskit_aer import Aer\n",
    "from qiskit.visualization import plot_histogram\n",
    "\n",
    "\n",
    "def oracle(circuit):\n",
    "    # This oracle flips the sign of the state |11⟩\n",
    "    circuit.cz(0, 1)  # Controlled-Z gate\n",
    "def diffuser(circuit, n):\n",
    "    # Apply Hadamard gates to all qubits\n",
    "    circuit.h(range(n))\n",
    "    # Apply the controlled-Z gate\n",
    "    circuit.z(range(n))\n",
    "    circuit.h(range(n))\n",
    "    # Apply a controlled-X (CX) gate (also known as Toffoli gate)\n",
    "    circuit.cx(0, 1)\n",
    "    # Apply Hadamard gates again\n",
    "    circuit.h(range(n))\n"
   ]
  },
  {
   "cell_type": "code",
   "execution_count": 11,
   "metadata": {},
   "outputs": [],
   "source": [
    "def grovers_algorithm(n):\n",
    "    circuit = QuantumCircuit(n)\n",
    "    \n",
    "    # Step 1: Initialize the qubits\n",
    "    circuit.h(range(n))  # Apply Hadamard gates to create superposition\n",
    "\n",
    "    # Number of iterations\n",
    "    iterations = int((3.14 / 4) * (2**(n/2)))\n",
    "\n",
    "    # Step 2: Apply oracle and diffuser repeatedly\n",
    "    for _ in range(iterations):\n",
    "        oracle(circuit)\n",
    "        diffuser(circuit, n)\n",
    "\n",
    "    # Step 3: Measure the qubits\n",
    "    circuit.measure_all()\n",
    "    return circuit\n"
   ]
  },
  {
   "cell_type": "code",
   "execution_count": 22,
   "metadata": {},
   "outputs": [
    {
     "name": "stdout",
     "output_type": "stream",
     "text": [
      "Measurement Counts: {'01': 250, '11': 259, '10': 250, '00': 265}\n"
     ]
    },
    {
     "data": {
      "image/png": "[encoded data removed]",
      "text/plain": [
       "<Figure size 640x480 with 1 Axes>"
      ]
     },
     "execution_count": 22,
     "metadata": {},
     "output_type": "execute_result"
    }
   ],
   "source": [
    "n = 2  \n",
    "circuit = grovers_algorithm(n)\n",
    "\n",
    "# Execute the circuit on a simulator\n",
    "simulator = Aer.get_backend('aer_simulator')\n",
    "new_circuit = transpile(circuit, simulator)\n",
    "\n",
    "# Run the circuit on the simulator\n",
    "job = simulator.run(new_circuit)\n",
    "\n",
    "# Get the results from the job\n",
    "result = job.result()\n",
    "\n",
    "# Get the counts (measurement results)\n",
    "counts = result.get_counts(new_circuit)\n",
    "\n",
    "# Print the counts\n",
    "print(\"Measurement Counts:\", counts)\n",
    "\n",
    "# Visualize the results\n",
    "plot_histogram(counts)\n",
    "\n",
    "\n"
   ]
  },
  {
   "cell_type": "code",
   "execution_count": 33,
   "metadata": {},
   "outputs": [
    {
     "name": "stdout",
     "output_type": "stream",
     "text": [
      "Classical search found the target '0' at index: 0\n"
     ]
    },
    {
     "ename": "CircuitError",
     "evalue": "'Index 2 out of range for size 2.'",
     "output_type": "error",
     "traceback": [
      "\u001b[0;31m---------------------------------------------------------------------------\u001b[0m",
      "\u001b[0;31mIndexError\u001b[0m                                Traceback (most recent call last)",
      "File \u001b[0;32m~/Desktop/College/Research-2024/venv/lib/python3.12/site-packages/qiskit/circuit/quantumcircuit.py:6749\u001b[0m, in \u001b[0;36m_bit_argument_conversion\u001b[0;34m(specifier, bit_sequence, bit_set, type_)\u001b[0m\n\u001b[1;32m   6748\u001b[0m \u001b[38;5;28;01mtry\u001b[39;00m:\n\u001b[0;32m-> 6749\u001b[0m     \u001b[38;5;28;01mreturn\u001b[39;00m [\u001b[43mbit_sequence\u001b[49m\u001b[43m[\u001b[49m\u001b[43mspecifier\u001b[49m\u001b[43m]\u001b[49m]\n\u001b[1;32m   6750\u001b[0m \u001b[38;5;28;01mexcept\u001b[39;00m \u001b[38;5;167;01mIndexError\u001b[39;00m \u001b[38;5;28;01mas\u001b[39;00m ex:\n",
      "\u001b[0;31mIndexError\u001b[0m: list index out of range",
      "\nThe above exception was the direct cause of the following exception:\n",
      "\u001b[0;31mCircuitError\u001b[0m                              Traceback (most recent call last)",
      "Cell \u001b[0;32mIn[33], line 62\u001b[0m\n\u001b[1;32m     59\u001b[0m \u001b[38;5;28mprint\u001b[39m(\u001b[38;5;124mf\u001b[39m\u001b[38;5;124m\"\u001b[39m\u001b[38;5;124mClassical search found the target \u001b[39m\u001b[38;5;124m'\u001b[39m\u001b[38;5;132;01m{\u001b[39;00mtarget\u001b[38;5;132;01m}\u001b[39;00m\u001b[38;5;124m'\u001b[39m\u001b[38;5;124m at index: \u001b[39m\u001b[38;5;132;01m{\u001b[39;00mclassical_result_index\u001b[38;5;132;01m}\u001b[39;00m\u001b[38;5;124m\"\u001b[39m)\n\u001b[1;32m     61\u001b[0m \u001b[38;5;66;03m# Quantum Search\u001b[39;00m\n\u001b[0;32m---> 62\u001b[0m circuit \u001b[38;5;241m=\u001b[39m \u001b[43mgrovers_algorithm\u001b[49m\u001b[43m(\u001b[49m\u001b[43mtarget_index\u001b[49m\u001b[43m,\u001b[49m\u001b[43m \u001b[49m\u001b[43mn\u001b[49m\u001b[43m)\u001b[49m\n\u001b[1;32m     64\u001b[0m \u001b[38;5;66;03m# Execute the circuit on a simulator\u001b[39;00m\n\u001b[1;32m     65\u001b[0m simulator \u001b[38;5;241m=\u001b[39m Aer\u001b[38;5;241m.\u001b[39mget_backend(\u001b[38;5;124m'\u001b[39m\u001b[38;5;124maer_simulator\u001b[39m\u001b[38;5;124m'\u001b[39m)\n",
      "Cell \u001b[0;32mIn[33], line 33\u001b[0m, in \u001b[0;36mgrovers_algorithm\u001b[0;34m(target_index, n)\u001b[0m\n\u001b[1;32m     30\u001b[0m \u001b[38;5;66;03m# Apply controlled-controlled-X (CCX) gates for the oracle\u001b[39;00m\n\u001b[1;32m     31\u001b[0m \u001b[38;5;28;01mif\u001b[39;00m n \u001b[38;5;241m==\u001b[39m \u001b[38;5;241m2\u001b[39m:\n\u001b[1;32m     32\u001b[0m     \u001b[38;5;66;03m# Only need a CCX for a single target state\u001b[39;00m\n\u001b[0;32m---> 33\u001b[0m     \u001b[43mcircuit\u001b[49m\u001b[38;5;241;43m.\u001b[39;49m\u001b[43mccx\u001b[49m\u001b[43m(\u001b[49m\u001b[38;5;241;43m0\u001b[39;49m\u001b[43m,\u001b[49m\u001b[43m \u001b[49m\u001b[38;5;241;43m1\u001b[39;49m\u001b[43m,\u001b[49m\u001b[43m \u001b[49m\u001b[38;5;241;43m2\u001b[39;49m\u001b[43m)\u001b[49m  \u001b[38;5;66;03m# 2 is not a qubit; we will correct this in the marking step\u001b[39;00m\n\u001b[1;32m     34\u001b[0m \u001b[38;5;28;01melif\u001b[39;00m n \u001b[38;5;241m==\u001b[39m \u001b[38;5;241m3\u001b[39m:\n\u001b[1;32m     35\u001b[0m     circuit\u001b[38;5;241m.\u001b[39mccx(\u001b[38;5;241m0\u001b[39m, \u001b[38;5;241m1\u001b[39m, \u001b[38;5;241m2\u001b[39m)\n",
      "File \u001b[0;32m~/Desktop/College/Research-2024/venv/lib/python3.12/site-packages/qiskit/circuit/quantumcircuit.py:5381\u001b[0m, in \u001b[0;36mQuantumCircuit.ccx\u001b[0;34m(self, control_qubit1, control_qubit2, target_qubit, ctrl_state)\u001b[0m\n\u001b[1;32m   5379\u001b[0m \u001b[38;5;66;03m# if the control state is |11> use the fast Rust version of the gate\u001b[39;00m\n\u001b[1;32m   5380\u001b[0m \u001b[38;5;28;01mif\u001b[39;00m ctrl_state \u001b[38;5;129;01mis\u001b[39;00m \u001b[38;5;28;01mNone\u001b[39;00m \u001b[38;5;129;01mor\u001b[39;00m ctrl_state \u001b[38;5;129;01min\u001b[39;00m [\u001b[38;5;124m\"\u001b[39m\u001b[38;5;124m11\u001b[39m\u001b[38;5;124m\"\u001b[39m, \u001b[38;5;241m3\u001b[39m]:\n\u001b[0;32m-> 5381\u001b[0m     \u001b[38;5;28;01mreturn\u001b[39;00m \u001b[38;5;28;43mself\u001b[39;49m\u001b[38;5;241;43m.\u001b[39;49m\u001b[43m_append_standard_gate\u001b[49m\u001b[43m(\u001b[49m\n\u001b[1;32m   5382\u001b[0m \u001b[43m        \u001b[49m\u001b[43mStandardGate\u001b[49m\u001b[38;5;241;43m.\u001b[39;49m\u001b[43mCCXGate\u001b[49m\u001b[43m,\u001b[49m\n\u001b[1;32m   5383\u001b[0m \u001b[43m        \u001b[49m\u001b[43m[\u001b[49m\u001b[43mcontrol_qubit1\u001b[49m\u001b[43m,\u001b[49m\u001b[43m \u001b[49m\u001b[43mcontrol_qubit2\u001b[49m\u001b[43m,\u001b[49m\u001b[43m \u001b[49m\u001b[43mtarget_qubit\u001b[49m\u001b[43m]\u001b[49m\u001b[43m,\u001b[49m\n\u001b[1;32m   5384\u001b[0m \u001b[43m        \u001b[49m\u001b[43m(\u001b[49m\u001b[43m)\u001b[49m\u001b[43m,\u001b[49m\n\u001b[1;32m   5385\u001b[0m \u001b[43m    \u001b[49m\u001b[43m)\u001b[49m\n\u001b[1;32m   5387\u001b[0m \u001b[38;5;28;01mfrom\u001b[39;00m \u001b[38;5;21;01m.\u001b[39;00m\u001b[38;5;21;01mlibrary\u001b[39;00m\u001b[38;5;21;01m.\u001b[39;00m\u001b[38;5;21;01mstandard_gates\u001b[39;00m\u001b[38;5;21;01m.\u001b[39;00m\u001b[38;5;21;01mx\u001b[39;00m \u001b[38;5;28;01mimport\u001b[39;00m CCXGate\n\u001b[1;32m   5389\u001b[0m \u001b[38;5;28;01mreturn\u001b[39;00m \u001b[38;5;28mself\u001b[39m\u001b[38;5;241m.\u001b[39mappend(\n\u001b[1;32m   5390\u001b[0m     CCXGate(ctrl_state\u001b[38;5;241m=\u001b[39mctrl_state),\n\u001b[1;32m   5391\u001b[0m     [control_qubit1, control_qubit2, target_qubit],\n\u001b[1;32m   5392\u001b[0m     [],\n\u001b[1;32m   5393\u001b[0m     copy\u001b[38;5;241m=\u001b[39m\u001b[38;5;28;01mFalse\u001b[39;00m,\n\u001b[1;32m   5394\u001b[0m )\n",
      "File \u001b[0;32m~/Desktop/College/Research-2024/venv/lib/python3.12/site-packages/qiskit/circuit/quantumcircuit.py:2418\u001b[0m, in \u001b[0;36mQuantumCircuit._append_standard_gate\u001b[0;34m(self, op, qargs, params, label)\u001b[0m\n\u001b[1;32m   2415\u001b[0m \u001b[38;5;28;01mif\u001b[39;00m params \u001b[38;5;129;01mis\u001b[39;00m \u001b[38;5;28;01mNone\u001b[39;00m:\n\u001b[1;32m   2416\u001b[0m     params \u001b[38;5;241m=\u001b[39m []\n\u001b[0;32m-> 2418\u001b[0m expanded_qargs \u001b[38;5;241m=\u001b[39m [\u001b[38;5;28;43mself\u001b[39;49m\u001b[38;5;241;43m.\u001b[39;49m\u001b[43m_qbit_argument_conversion\u001b[49m\u001b[43m(\u001b[49m\u001b[43mqarg\u001b[49m\u001b[43m)\u001b[49m \u001b[38;5;28;01mfor\u001b[39;00m qarg \u001b[38;5;129;01min\u001b[39;00m qargs \u001b[38;5;129;01mor\u001b[39;00m []]\n\u001b[1;32m   2419\u001b[0m \u001b[38;5;28;01mfor\u001b[39;00m param \u001b[38;5;129;01min\u001b[39;00m params:\n\u001b[1;32m   2420\u001b[0m     Gate\u001b[38;5;241m.\u001b[39mvalidate_parameter(op, param)\n",
      "File \u001b[0;32m~/Desktop/College/Research-2024/venv/lib/python3.12/site-packages/qiskit/circuit/quantumcircuit.py:2367\u001b[0m, in \u001b[0;36mQuantumCircuit._qbit_argument_conversion\u001b[0;34m(self, qubit_representation)\u001b[0m\n\u001b[1;32m   2356\u001b[0m \u001b[38;5;28;01mdef\u001b[39;00m \u001b[38;5;21m_qbit_argument_conversion\u001b[39m(\u001b[38;5;28mself\u001b[39m, qubit_representation: QubitSpecifier) \u001b[38;5;241m-\u001b[39m\u001b[38;5;241m>\u001b[39m \u001b[38;5;28mlist\u001b[39m[Qubit]:\n\u001b[1;32m   2357\u001b[0m \u001b[38;5;250m    \u001b[39m\u001b[38;5;124;03m\"\"\"\u001b[39;00m\n\u001b[1;32m   2358\u001b[0m \u001b[38;5;124;03m    Converts several qubit representations (such as indexes, range, etc.)\u001b[39;00m\n\u001b[1;32m   2359\u001b[0m \u001b[38;5;124;03m    into a list of qubits.\u001b[39;00m\n\u001b[0;32m   (...)\u001b[0m\n\u001b[1;32m   2365\u001b[0m \u001b[38;5;124;03m        The resolved instances of the qubits.\u001b[39;00m\n\u001b[1;32m   2366\u001b[0m \u001b[38;5;124;03m    \"\"\"\u001b[39;00m\n\u001b[0;32m-> 2367\u001b[0m     \u001b[38;5;28;01mreturn\u001b[39;00m \u001b[43m_bit_argument_conversion\u001b[49m\u001b[43m(\u001b[49m\n\u001b[1;32m   2368\u001b[0m \u001b[43m        \u001b[49m\u001b[43mqubit_representation\u001b[49m\u001b[43m,\u001b[49m\u001b[43m \u001b[49m\u001b[38;5;28;43mself\u001b[39;49m\u001b[38;5;241;43m.\u001b[39;49m\u001b[43mqubits\u001b[49m\u001b[43m,\u001b[49m\u001b[43m \u001b[49m\u001b[38;5;28;43mself\u001b[39;49m\u001b[38;5;241;43m.\u001b[39;49m\u001b[43m_qubit_indices\u001b[49m\u001b[43m,\u001b[49m\u001b[43m \u001b[49m\u001b[43mQubit\u001b[49m\n\u001b[1;32m   2369\u001b[0m \u001b[43m    \u001b[49m\u001b[43m)\u001b[49m\n",
      "File \u001b[0;32m~/Desktop/College/Research-2024/venv/lib/python3.12/site-packages/qiskit/circuit/quantumcircuit.py:6751\u001b[0m, in \u001b[0;36m_bit_argument_conversion\u001b[0;34m(specifier, bit_sequence, bit_set, type_)\u001b[0m\n\u001b[1;32m   6749\u001b[0m         \u001b[38;5;28;01mreturn\u001b[39;00m [bit_sequence[specifier]]\n\u001b[1;32m   6750\u001b[0m     \u001b[38;5;28;01mexcept\u001b[39;00m \u001b[38;5;167;01mIndexError\u001b[39;00m \u001b[38;5;28;01mas\u001b[39;00m ex:\n\u001b[0;32m-> 6751\u001b[0m         \u001b[38;5;28;01mraise\u001b[39;00m CircuitError(\n\u001b[1;32m   6752\u001b[0m             \u001b[38;5;124mf\u001b[39m\u001b[38;5;124m\"\u001b[39m\u001b[38;5;124mIndex \u001b[39m\u001b[38;5;132;01m{\u001b[39;00mspecifier\u001b[38;5;132;01m}\u001b[39;00m\u001b[38;5;124m out of range for size \u001b[39m\u001b[38;5;132;01m{\u001b[39;00m\u001b[38;5;28mlen\u001b[39m(bit_sequence)\u001b[38;5;132;01m}\u001b[39;00m\u001b[38;5;124m.\u001b[39m\u001b[38;5;124m\"\u001b[39m\n\u001b[1;32m   6753\u001b[0m         ) \u001b[38;5;28;01mfrom\u001b[39;00m \u001b[38;5;21;01mex\u001b[39;00m\n\u001b[1;32m   6754\u001b[0m \u001b[38;5;66;03m# Slices can't raise IndexError - they just return an empty list.\u001b[39;00m\n\u001b[1;32m   6755\u001b[0m \u001b[38;5;28;01mif\u001b[39;00m \u001b[38;5;28misinstance\u001b[39m(specifier, \u001b[38;5;28mslice\u001b[39m):\n",
      "\u001b[0;31mCircuitError\u001b[0m: 'Index 2 out of range for size 2.'"
     ]
    }
   ],
   "source": [
    "import random\n",
    "from qiskit import QuantumCircuit, transpile\n",
    "from qiskit.visualization import plot_histogram\n",
    "\n",
    "# Function to implement classical search\n",
    "def classical_search(target, items):\n",
    "    for index, item in enumerate(items):\n",
    "        if item == target:\n",
    "            return index\n",
    "    return -1\n",
    "\n",
    "# Function to implement Grover's algorithm\n",
    "def grovers_algorithm(target_index, n):\n",
    "    # Create a Grover's algorithm circuit\n",
    "    circuit = QuantumCircuit(n)  # n qubits and n classical bits for measurement\n",
    "    \n",
    "    # Apply Hadamard gates to all qubits to create superposition\n",
    "    for qubit in range(n):\n",
    "        circuit.h(qubit)\n",
    "    \n",
    "    # Oracle: Mark the target index\n",
    "    # Invert the sign of the target state\n",
    "    target_binary = format(target_index, f'0{n}b')  # Get binary representation of target index\n",
    "    \n",
    "    # Apply X gates to create the state |target>\n",
    "    for i in range(n):\n",
    "        if target_binary[i] == '0':\n",
    "            circuit.x(i)\n",
    "\n",
    "    # Apply controlled-controlled-X (CCX) gates for the oracle\n",
    "    if n == 2:\n",
    "        # Only need a CCX for a single target state\n",
    "        circuit.ccx(0, 1, 2)  # 2 is not a qubit; we will correct this in the marking step\n",
    "    elif n == 3:\n",
    "        circuit.ccx(0, 1, 2)\n",
    "    \n",
    "    # Revert the X gates\n",
    "    for i in range(n):\n",
    "        if target_binary[i] == '0':\n",
    "            circuit.x(i)\n",
    "\n",
    "    # Apply Hadamard gates again\n",
    "    for qubit in range(n):\n",
    "        circuit.h(qubit)\n",
    "    \n",
    "    # Measure the qubits\n",
    "    circuit.measure(range(n), range(n))\n",
    "    \n",
    "    return circuit\n",
    "\n",
    "# Number of qubits (for a search space of size 4)\n",
    "n = 2  # 2 qubits allow for a 4-state search (00, 01, 10, 11)\n",
    "target_index = random.randint(0, (1 << n) - 1)  # Random target index from 0 to 3\n",
    "items = [0, 1, 2, 3]  # Search space\n",
    "\n",
    "# Classical Search\n",
    "target = items[target_index]\n",
    "classical_result_index = classical_search(target, items)\n",
    "print(f\"Classical search found the target '{target}' at index: {classical_result_index}\")\n",
    "\n",
    "# Quantum Search\n",
    "circuit = grovers_algorithm(target_index, n)\n",
    "\n",
    "# Execute the circuit on a simulator\n",
    "simulator = Aer.get_backend('aer_simulator')\n",
    "new_circuit = transpile(circuit, simulator)\n",
    "\n",
    "# Run the circuit on the simulator\n",
    "job = simulator.run(new_circuit)\n",
    "result = job.result()\n",
    "counts = result.get_counts(new_circuit)\n",
    "\n",
    "# Print the counts and find the index of the most measured state\n",
    "print(\"Quantum Measurement Counts:\", counts)\n",
    "\n",
    "# Find the result (the most measured state)\n",
    "most_measured = max(counts, key=counts.get)\n",
    "quantum_result_index = int(most_measured, 2)  # Convert binary string to index\n",
    "print(f\"Quantum search found the target '{target}' at index: {quantum_result_index}\")\n",
    "\n",
    "# Visualize the results\n",
    "plot_histogram(counts)\n",
    "\n"
   ]
  }
 ],
 "metadata": {
  "kernelspec": {
   "display_name": "venv",
   "language": "python",
   "name": "python3"
  },
  "language_info": {
   "codemirror_mode": {
    "name": "ipython",
    "version": 3
   },
   "file_extension": ".py",
   "mimetype": "text/x-python",
   "name": "python",
   "nbconvert_exporter": "python",
   "pygments_lexer": "ipython3",
   "version": "3.12.7"
  }
 },
 "nbformat": 4,
 "nbformat_minor": 2
}
